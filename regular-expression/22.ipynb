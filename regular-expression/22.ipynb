{
 "metadata": {
  "language_info": {
   "codemirror_mode": {
    "name": "ipython",
    "version": 3
   },
   "file_extension": ".py",
   "mimetype": "text/x-python",
   "name": "python",
   "nbconvert_exporter": "python",
   "pygments_lexer": "ipython3",
   "version": "3.7.7-final"
  },
  "orig_nbformat": 2,
  "kernelspec": {
   "name": "Python 3.7.7 64-bit",
   "display_name": "Python 3.7.7 64-bit",
   "metadata": {
    "interpreter": {
     "hash": "11bea560d133674ea22db9f14a52dd10d7b4b4f2ab038fe2133bce6aed440c27"
    }
   }
  }
 },
 "nbformat": 4,
 "nbformat_minor": 2,
 "cells": [
  {
   "source": [
    "# 22. カテゴリ名の抽出Permalink\n",
    "記事のカテゴリ名を（行単位ではなく名前で）抽出せよ．"
   ],
   "cell_type": "markdown",
   "metadata": {}
  },
  {
   "cell_type": "code",
   "execution_count": 1,
   "metadata": {},
   "outputs": [],
   "source": [
    "import json\n",
    "\n",
    "data = []\n",
    "with open(\"./jawiki-country.json\", encoding=\"utf-8\") as f:\n",
    "    for line in f:\n",
    "        data.append(json.loads(line))\n",
    "\n",
    "for country in data:\n",
    "    if country[\"title\"] == \"イギリス\":\n",
    "        UK = country\n",
    "        break\n",
    "    else:\n",
    "        continue"
   ]
  },
  {
   "cell_type": "code",
   "execution_count": 10,
   "metadata": {},
   "outputs": [],
   "source": [
    "import re\n",
    "\n",
    "def extract_category_name(row):\n",
    "    row = row.split(\"[[Category:\")[1]\n",
    "    row = row.split(\"]]\")[0]\n",
    "    return row\n",
    "\n",
    "rows = re.findall(\"\\[\\[Category.+\\]\\]\", UK[\"text\"])\n",
    "categories = [extract_category_name(row) for row in rows]\n"
   ]
  },
  {
   "cell_type": "code",
   "execution_count": 11,
   "metadata": {},
   "outputs": [
    {
     "output_type": "execute_result",
     "data": {
      "text/plain": "['イギリス|*',\n 'イギリス連邦加盟国',\n '英連邦王国|*',\n 'G8加盟国',\n '欧州連合加盟国|元',\n '海洋国家',\n '現存する君主国',\n '島国',\n '1801年に成立した国家・領域']"
     },
     "metadata": {},
     "execution_count": 11
    }
   ],
   "source": [
    "categories"
   ]
  }
 ]
}