{
 "metadata": {
  "language_info": {
   "codemirror_mode": {
    "name": "ipython",
    "version": 3
   },
   "file_extension": ".py",
   "mimetype": "text/x-python",
   "name": "python",
   "nbconvert_exporter": "python",
   "pygments_lexer": "ipython3",
   "version": "3.7.7-final"
  },
  "orig_nbformat": 2,
  "kernelspec": {
   "name": "Python 3.7.7 64-bit",
   "display_name": "Python 3.7.7 64-bit",
   "metadata": {
    "interpreter": {
     "hash": "11bea560d133674ea22db9f14a52dd10d7b4b4f2ab038fe2133bce6aed440c27"
    }
   }
  }
 },
 "nbformat": 4,
 "nbformat_minor": 2,
 "cells": [
  {
   "source": [
    "# 23. セクション構造Permalink\n",
    "記事中に含まれるセクション名とそのレベル（例えば”== セクション名 ==”なら1）を表示せよ．"
   ],
   "cell_type": "markdown",
   "metadata": {}
  },
  {
   "cell_type": "code",
   "execution_count": 1,
   "metadata": {},
   "outputs": [],
   "source": [
    "import json\n",
    "\n",
    "data = []\n",
    "with open(\"./jawiki-country.json\", encoding=\"utf-8\") as f:\n",
    "    for line in f:\n",
    "        data.append(json.loads(line))\n",
    "\n",
    "for country in data:\n",
    "    if country[\"title\"] == \"イギリス\":\n",
    "        UK = country\n",
    "        break\n",
    "    else:\n",
    "        continue"
   ]
  },
  {
   "cell_type": "code",
   "execution_count": 2,
   "metadata": {
    "tags": []
   },
   "outputs": [
    {
     "output_type": "stream",
     "name": "stdout",
     "text": "section name : 国名\nlevel : 1\n\nsection name : 歴史\nlevel : 1\n\nsection name : 地理\nlevel : 1\n\nsection name : 主要都市\nlevel : 2\n\nsection name : 気候\nlevel : 2\n\nsection name : 政治\nlevel : 1\n\nsection name : 元首\nlevel : 2\n\nsection name : 法\nlevel : 2\n\nsection name : 内政\nlevel : 2\n\nsection name : 地方行政区分\nlevel : 2\n\nsection name : 外交・軍事\nlevel : 2\n\nsection name : 経済\nlevel : 1\n\nsection name : 鉱業\nlevel : 2\n\nsection name : 農業\nlevel : 2\n\nsection name : 貿易\nlevel : 2\n\nsection name : 不動産\nlevel : 2\n\nsection name : エネルギー政策\nlevel : 2\n\nsection name : 通貨\nlevel : 2\n\nsection name : 企業\nlevel : 2\n\nsection name : 通信\nlevel : 3\n\nsection name : 交通\nlevel : 1\n\nsection name : 道路\nlevel : 2\n\nsection name : 鉄道\nlevel : 2\n\nsection name : 海運\nlevel : 2\n\nsection name : 航空\nlevel : 2\n\nsection name : 科学技術\nlevel : 1\n\nsection name : 国民\nlevel : 1\n\nsection name : 言語\nlevel : 2\n\nsection name : 宗教\nlevel : 2\n\nsection name : 婚姻\nlevel : 2\n\nsection name : 移住\nlevel : 2\n\nsection name : 教育\nlevel : 2\n\nsection name : 医療\nlevel : 2\n\nsection name : 文化\nlevel : 1\n\nsection name : 食文化\nlevel : 2\n\nsection name : 文学\nlevel : 2\n\nsection name : 哲学\nlevel : 2\n\nsection name : 音楽\nlevel : 2\n\nsection name : ポピュラー音楽\nlevel : 3\n\nsection name : 映画\nlevel : 2\n\nsection name : コメディ\nlevel : 2\n\nsection name : 国花\nlevel : 2\n\nsection name : 世界遺産\nlevel : 2\n\nsection name : 祝祭日\nlevel : 2\n\nsection name : スポーツ\nlevel : 2\n\nsection name : サッカー\nlevel : 3\n\nsection name : クリケット\nlevel : 3\n\nsection name : 競馬\nlevel : 3\n\nsection name : モータースポーツ\nlevel : 3\n\nsection name : 野球\nlevel : 3\n\nsection name :  カーリング \nlevel : 3\n\nsection name :  自転車競技 \nlevel : 3\n\nsection name : 脚注\nlevel : 1\n\nsection name : 関連項目\nlevel : 1\n\nsection name : 外部リンク\nlevel : 1\n\n"
    }
   ],
   "source": [
    "import re\n",
    "\n",
    "sections = re.findall(\"==+.+.==+\", UK[\"text\"])\n",
    "\n",
    "for section in sections:\n",
    "    markups = re.findall(\"==+\", section)\n",
    "    \n",
    "    level = (len(markups[0]) - 1)\n",
    "    section_name = section.split(\"=\" * len(markups[0]))[1]\n",
    "\n",
    "    print(f\"section name : {section_name}\")\n",
    "    print(f\"level : {level}\\n\")"
   ]
  }
 ]
}