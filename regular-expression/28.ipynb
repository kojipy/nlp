{
 "metadata": {
  "language_info": {
   "codemirror_mode": {
    "name": "ipython",
    "version": 3
   },
   "file_extension": ".py",
   "mimetype": "text/x-python",
   "name": "python",
   "nbconvert_exporter": "python",
   "pygments_lexer": "ipython3",
   "version": "3.7.7-final"
  },
  "orig_nbformat": 2,
  "kernelspec": {
   "name": "Python 3.7.7 64-bit",
   "display_name": "Python 3.7.7 64-bit",
   "metadata": {
    "interpreter": {
     "hash": "11bea560d133674ea22db9f14a52dd10d7b4b4f2ab038fe2133bce6aed440c27"
    }
   }
  }
 },
 "nbformat": 4,
 "nbformat_minor": 2,
 "cells": [
  {
   "source": [
    "# 28. MediaWikiマークアップの除去Permalink\n",
    "27の処理に加えて，テンプレートの値からMediaWikiマークアップを可能な限り除去し，国の基本情報を整形せよ．"
   ],
   "cell_type": "markdown",
   "metadata": {}
  },
  {
   "cell_type": "code",
   "execution_count": 3,
   "metadata": {},
   "outputs": [],
   "source": [
    "import json\n",
    "\n",
    "data = []\n",
    "with open(\"./jawiki-country.json\", encoding=\"utf-8\") as f:\n",
    "    for line in f:\n",
    "        data.append(json.loads(line))\n",
    "\n",
    "for country in data:\n",
    "    if country[\"title\"] == \"イギリス\":\n",
    "        UK = country\n",
    "        break\n",
    "    else:\n",
    "        continue"
   ]
  },
  {
   "cell_type": "code",
   "execution_count": 71,
   "metadata": {},
   "outputs": [],
   "source": [
    "import re\n",
    "\n",
    "pattern = re.compile(\"\\|(.+?)\\s=\\s*(.+)\")\n",
    "answer = {}\n",
    "\n",
    "def rm_emphasize(string):\n",
    "    r = re.compile(\"'+\")\n",
    "    return r.sub(\"\", string)\n",
    "\n",
    "def rm_inner_link(string):\n",
    "    r = re.compile(\"\\[\\[(\\|.+||)(.+?)\\]\\]\")\n",
    "    return r.sub(r\"\\2\", string)\n",
    "\n",
    "def remove_markups(string):\n",
    "    # 強調マークアップを削除\n",
    "    pattern = r'\\'{2,5}'\n",
    "    string = re.sub(pattern, '', string)\n",
    "\n",
    "    # 署名を削除\n",
    "    patter = \"~~~~\"\n",
    "    string = re.sub(pattern, \"\", string)\n",
    "\n",
    "    # 見出しを削除\n",
    "    pattern = \"={2,5}\"\n",
    "    string = re.sub(pattern, \"\", string)\n",
    "\n",
    "    # \"特によく使われるテンプレート\"削除\n",
    "    pattern = r'\\{\\{(?:lang|仮リンク)(?:[^|]*?\\|)*?([^|]*?)\\}\\}'\n",
    "    string = re.sub(pattern, r\"\\1\", string)\n",
    "\n",
    "    return string\n",
    "\n",
    "for line in UK[\"text\"].split(\"\\n\"):\n",
    "    res = re.search(pattern, line)\n",
    "    if res:\n",
    "        answer[res[1]] = remove_markups(rm_inner_link(rm_emphasize(res[2])))"
   ]
  },
  {
   "cell_type": "code",
   "execution_count": 72,
   "metadata": {},
   "outputs": [
    {
     "output_type": "execute_result",
     "data": {
      "text/plain": "{&#39;略名 &#39;: &#39;イギリス&#39;,\n &#39;日本語国名&#39;: &#39;グレートブリテン及び北アイルランド連合王国&#39;,\n &#39;公式国名&#39;: &#39;United Kingdom of Great Britain and Northern Ireland&lt;ref&gt;英語以外での正式国名:&lt;br /&gt;&#39;,\n &#39;国旗画像&#39;: &#39;Flag of the United Kingdom.svg&#39;,\n &#39;国章画像&#39;: &#39;ファイル:Royal Coat of Arms of the United Kingdom.svg|85px|イギリスの国章&#39;,\n &#39;国章リンク&#39;: &#39;（イギリスの国章|国章）&#39;,\n &#39;標語&#39;: &#39;Dieu et mon droit&lt;br /&gt;（フランス語:Dieu et mon droit|神と我が権利）&#39;,\n &#39;国歌&#39;: &#39;女王陛下万歳|God Save the Queen{{en icon}}&lt;br /&gt;神よ女王を護り賜え&lt;br /&gt;{{center|ファイル:United States Navy Band - God Save the Queen.ogg}}&#39;,\n &#39;地図画像&#39;: &#39;Europe-UK.svg&#39;,\n &#39;位置画像&#39;: &#39;United Kingdom (+overseas territories) in the World (+Antarctica claims).svg&#39;,\n &#39;公用語&#39;: &#39;英語&#39;,\n &#39;首都&#39;: &#39;ロンドン（事実上）&#39;,\n &#39;最大都市&#39;: &#39;ロンドン&#39;,\n &#39;元首等肩書&#39;: &#39;イギリスの君主|女王&#39;,\n &#39;元首等氏名&#39;: &#39;エリザベス2世&#39;,\n &#39;首相等肩書&#39;: &#39;イギリスの首相|首相&#39;,\n &#39;首相等氏名&#39;: &#39;ボリス・ジョンソン&#39;,\n &#39;他元首等肩書1&#39;: &#39;貴族院 (イギリス)|貴族院議長&#39;,\n &#39;他元首等氏名1&#39;: &#39;:en:Norman Fowler, Baron Fowler|ノーマン・ファウラー&#39;,\n &#39;他元首等肩書2&#39;: &#39;庶民院 (イギリス)|庶民院議長&#39;,\n &#39;他元首等氏名2&#39;: &#39;Lindsay Hoyle&#39;,\n &#39;他元首等肩書3&#39;: &#39;連合王国最高裁判所|最高裁判所長官&#39;,\n &#39;他元首等氏名3&#39;: &#39;:en:Brenda Hale, Baroness Hale of Richmond|ブレンダ・ヘイル&#39;,\n &#39;面積順位&#39;: &#39;76&#39;,\n &#39;面積大きさ&#39;: &#39;1 E11&#39;,\n &#39;面積値&#39;: &#39;244,820&#39;,\n &#39;水面積率&#39;: &#39;1.3%&#39;,\n &#39;人口統計年&#39;: &#39;2018&#39;,\n &#39;人口順位&#39;: &#39;22&#39;,\n &#39;人口大きさ&#39;: &#39;1 E7&#39;,\n &#39;人口値&#39;: &#39;6643万5600&lt;ref&gt;{{Cite web|url=https://www.ons.gov.uk/peoplepopulationandcommunity/populationandmigration/populationestimates|title=Population estimates - Office for National Statistics|accessdate=2019-06-26|date=2019-06-26}}&lt;/ref&gt;&#39;,\n &#39;人口密度値&#39;: &#39;271&#39;,\n &#39;GDP統計年元&#39;: &#39;2012&#39;,\n &#39;GDP値元&#39;: &#39;1兆5478億&lt;ref name=&quot;imf-statistics-gdp&quot;&gt;[http://www.imf.org/external/pubs/ft/weo/2012/02/weodata/weorept.aspx?pr.x=70&amp;pr.y=13&amp;sy=2010&amp;ey=2012&amp;scsm=1&amp;ssd=1&amp;sort=country&amp;ds=.&amp;br=1&amp;c=112&amp;s=NGDP%2CNGDPD%2CPPPGDP%2CPPPPC&amp;grp=0&amp;a=IMF&gt;Data and Statistics&gt;World Economic Outlook Databases&gt;By Countrise&gt;United Kingdom]&lt;/ref&gt;&#39;,\n &#39;GDP統計年MER&#39;: &#39;2012&#39;,\n &#39;GDP順位MER&#39;: &#39;6&#39;,\n &#39;GDP値MER&#39;: &#39;2兆4337億&lt;ref name=&quot;imf-statistics-gdp&quot; /&gt;&#39;,\n &#39;GDP統計年&#39;: &#39;2012&#39;,\n &#39;GDP順位&#39;: &#39;6&#39;,\n &#39;GDP値&#39;: &#39;2兆3162億&lt;ref name=&quot;imf-statistics-gdp&quot; /&gt;&#39;,\n &#39;GDP/人&#39;: &#39;36,727&lt;ref name=&quot;imf-statistics-gdp&quot; /&gt;&#39;,\n &#39;建国形態&#39;: &#39;建国&#39;,\n &#39;確立形態1&#39;: &#39;イングランド王国／スコットランド王国&lt;br /&gt;（両国とも合同法 (1707年)|1707年合同法まで）&#39;,\n &#39;確立年月日1&#39;: &#39;927年／843年&#39;,\n &#39;確立形態2&#39;: &#39;グレートブリテン王国成立&lt;br /&gt;（1707年合同法）&#39;,\n &#39;確立年月日2&#39;: &#39;1707年{{0}}5月{{0}}1日&#39;,\n &#39;確立形態3&#39;: &#39;グレートブリテン及びアイルランド連合王国成立&lt;br /&gt;（合同法 (1800年)|1800年合同法）&#39;,\n &#39;確立年月日3&#39;: &#39;1801年{{0}}1月{{0}}1日&#39;,\n &#39;確立形態4&#39;: &#39;現在の国号「グレートブリテン及び北アイルランド連合王国」に変更&#39;,\n &#39;確立年月日4&#39;: &#39;1927年{{0}}4月12日&#39;,\n &#39;通貨&#39;: &#39;スターリング・ポンド|UKポンド (£)&#39;,\n &#39;通貨コード&#39;: &#39;GBP&#39;,\n &#39;時間帯&#39;: &#39;±0&#39;,\n &#39;夏時間&#39;: &#39;+1&#39;,\n &#39;ISO 3166-1&#39;: &#39;GB / GBR&#39;,\n &#39;ccTLD&#39;: &#39;.uk / .gb&lt;ref&gt;使用は.ukに比べ圧倒的少数。&lt;/ref&gt;&#39;,\n &#39;国際電話番号&#39;: &#39;44&#39;,\n &#39;注記&#39;: &#39;&lt;references/&gt;&#39;}"
     },
     "metadata": {},
     "execution_count": 72
    }
   ],
   "source": [
    "answer"
   ]
  },
  {
   "cell_type": "code",
   "execution_count": 45,
   "metadata": {},
   "outputs": [
    {
     "output_type": "execute_result",
     "data": {
      "text/plain": "&#39;abc&#39;"
     },
     "metadata": {},
     "execution_count": 45
    }
   ],
   "source": [
    "s = \"12345abc12345\"\n",
    "pattern = \"\\d{5}(.*)\\d{5}\"\n",
    "re.sub(pattern, r'\\1', s)"
   ]
  },
  {
   "cell_type": "code",
   "execution_count": 38,
   "metadata": {},
   "outputs": [
    {
     "output_type": "execute_result",
     "data": {
      "text/plain": "&#39;\\\\1&#39;"
     },
     "metadata": {},
     "execution_count": 38
    }
   ],
   "source": [
    "r'\\1'"
   ]
  },
  {
   "cell_type": "code",
   "execution_count": null,
   "metadata": {},
   "outputs": [],
   "source": []
  }
 ]
}