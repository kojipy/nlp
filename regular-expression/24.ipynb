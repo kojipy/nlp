{
 "metadata": {
  "language_info": {
   "codemirror_mode": {
    "name": "ipython",
    "version": 3
   },
   "file_extension": ".py",
   "mimetype": "text/x-python",
   "name": "python",
   "nbconvert_exporter": "python",
   "pygments_lexer": "ipython3",
   "version": "3.7.7-final"
  },
  "orig_nbformat": 2,
  "kernelspec": {
   "name": "Python 3.7.7 64-bit",
   "display_name": "Python 3.7.7 64-bit",
   "metadata": {
    "interpreter": {
     "hash": "11bea560d133674ea22db9f14a52dd10d7b4b4f2ab038fe2133bce6aed440c27"
    }
   }
  }
 },
 "nbformat": 4,
 "nbformat_minor": 2,
 "cells": [
  {
   "source": [
    "# 24. ファイル参照の抽出Permalink\n",
    "記事から参照されているメディアファイルをすべて抜き出せ．"
   ],
   "cell_type": "markdown",
   "metadata": {}
  },
  {
   "cell_type": "code",
   "execution_count": 1,
   "metadata": {},
   "outputs": [],
   "source": [
    "import json\n",
    "\n",
    "data = []\n",
    "with open(\"./jawiki-country.json\", encoding=\"utf-8\") as f:\n",
    "    for line in f:\n",
    "        data.append(json.loads(line))\n",
    "\n",
    "for country in data:\n",
    "    if country[\"title\"] == \"イギリス\":\n",
    "        UK = country\n",
    "        break\n",
    "    else:\n",
    "        continue"
   ]
  },
  {
   "cell_type": "code",
   "execution_count": 3,
   "metadata": {
    "tags": []
   },
   "outputs": [
    {
     "output_type": "stream",
     "name": "stdout",
     "text": "Royal Coat of Arms of the United Kingdom.svg\nDescriptio Prime Tabulae Europae.jpg\nLenepveu, Jeanne d'Arc au siège d'Orléans.jpg\nLondon.bankofengland.arp.jpg\nBattle of Waterloo 1815.PNG\nUk topo en.jpg\nBenNevis2005.jpg\nPopulation density UK 2011 census.png\n2019 Greenwich Peninsula & Canary Wharf.jpg\nBirmingham Skyline from Edgbaston Cricket Ground crop.jpg\nLeeds CBD at night.jpg\nGlasgow and the Clyde from the air (geograph 4665720).jpg\nPalace of Westminster, London - Feb 2007.jpg\nScotland Parliament Holyrood.jpg\nDonald Trump and Theresa May (33998675310) (cropped).jpg\nSoldiers Trooping the Colour, 16th June 2007.jpg\nCity of London skyline from London City Hall - Oct 2008.jpg\nOil platform in the North SeaPros.jpg\nEurostar at St Pancras Jan 2008.jpg\nHeathrow Terminal 5C Iwelumo-1.jpg\nAirbus A380-841 G-XLEB British Airways (10424102995).jpg\nUKpop.svg\nAnglospeak.svg\nRoyal Aberdeen Children's Hospital.jpg\nCHANDOS3.jpg\nThe Fabs.JPG\nWembley Stadium, illuminated.jpg\n"
    }
   ],
   "source": [
    "import re\n",
    "\n",
    "for file in re.findall(\"\\[\\[(ファイル|File):([^]|]+?)(\\|.*?)+\\]\\]\", UK[\"text\"]):\n",
    "    print(file[1])"
   ]
  },
  {
   "cell_type": "code",
   "execution_count": null,
   "metadata": {},
   "outputs": [],
   "source": []
  }
 ]
}