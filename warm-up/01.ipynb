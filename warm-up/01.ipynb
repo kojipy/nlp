{
 "metadata": {
  "language_info": {
   "codemirror_mode": {
    "name": "ipython",
    "version": 3
   },
   "file_extension": ".py",
   "mimetype": "text/x-python",
   "name": "python",
   "nbconvert_exporter": "python",
   "pygments_lexer": "ipython3",
   "version": "3.7.5-final"
  },
  "orig_nbformat": 2,
  "kernelspec": {
   "name": "python_defaultSpec_1600568752055",
   "display_name": "Python 3.7.5 64-bit ('nlp': pipenv)"
  }
 },
 "nbformat": 4,
 "nbformat_minor": 2,
 "cells": [
  {
   "source": [
    "# 01. 「パタトクカシーー」Permalink\n",
    "「パタトクカシーー」という文字列の1,3,5,7文字目を取り出して連結した文字列を得よ．"
   ],
   "cell_type": "markdown",
   "metadata": {}
  },
  {
   "cell_type": "code",
   "execution_count": 5,
   "metadata": {},
   "outputs": [
    {
     "output_type": "execute_result",
     "data": {
      "text/plain": "'パトカー'"
     },
     "metadata": {},
     "execution_count": 5
    }
   ],
   "source": [
    "odd_list = list(\"パタトクカシーー\")[::2]\n",
    "\"\".join(odd_list)"
   ]
  }
 ]
}