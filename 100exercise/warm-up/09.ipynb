{
 "metadata": {
  "language_info": {
   "codemirror_mode": {
    "name": "ipython",
    "version": 3
   },
   "file_extension": ".py",
   "mimetype": "text/x-python",
   "name": "python",
   "nbconvert_exporter": "python",
   "pygments_lexer": "ipython3",
   "version": "3.7.7-final"
  },
  "orig_nbformat": 2,
  "kernelspec": {
   "name": "python_defaultSpec_1600950899973",
   "display_name": "Python 3.7.7 64-bit"
  }
 },
 "nbformat": 4,
 "nbformat_minor": 2,
 "cells": [
  {
   "cell_type": "markdown",
   "metadata": {},
   "source": [
    "# 09. TypoglycemiaPermalink\n",
    "スペースで区切られた単語列に対して，各単語の先頭と末尾の文字は残し，それ以外の文字の順序をランダムに並び替えるプログラムを作成せよ．ただし，長さが４以下の単語は並び替えないこととする．適当な英語の文（例えば”I couldn’t believe that I could actually understand what I was reading : the phenomenal power of the human mind .”）を与え，その実行結果を確認せよ．"
   ]
  },
  {
   "cell_type": "code",
   "execution_count": 23,
   "metadata": {},
   "outputs": [],
   "source": [
    "import random\n",
    "\n",
    "def func(sentence):\n",
    "    split = sentence.split(\" \")\n",
    "    result = \"\"\n",
    "    for word in split:\n",
    "        if len(word) <= 4:\n",
    "            result += word\n",
    "        else:\n",
    "            edge_cutted = word[1:-1]\n",
    "            result += shuffle_str(edge_cutted)\n",
    "        result += \" \"\n",
    "    return result\n",
    "\n",
    "def shuffle_str(word):\n",
    "    return \"\".join(random.sample(word, len(word)))\n"
   ]
  },
  {
   "cell_type": "code",
   "execution_count": 24,
   "metadata": {
    "tags": []
   },
   "outputs": [
    {
     "output_type": "execute_result",
     "data": {
      "text/plain": "'I uodln’ eievl that I olu lctula desnatnr what I was einda : the aneohmen weo of the mau mind . '"
     },
     "metadata": {},
     "execution_count": 24
    }
   ],
   "source": [
    "func(\"I couldn’t believe that I could actually understand what I was reading : the phenomenal power of the human mind .\")"
   ]
  }
 ]
}